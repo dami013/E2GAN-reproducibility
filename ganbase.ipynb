{
 "cells": [
  {
   "cell_type": "markdown",
   "metadata": {},
   "source": [
    "# Step 1 : Diffusion Models that creates the Dataset"
   ]
  },
  {
   "cell_type": "code",
   "execution_count": 1,
   "metadata": {},
   "outputs": [],
   "source": [
    "import os\n",
    "from PIL import Image\n",
    "from torchvision import transforms\n",
    "from torch.utils.data import Dataset, DataLoader, random_split\n",
    "import torch\n",
    "from torch import nn\n",
    "import torch.optim as optim\n",
    "import torch.nn.functional as F"
   ]
  },
  {
   "cell_type": "code",
   "execution_count": null,
   "metadata": {},
   "outputs": [],
   "source": [
    "class ImagePairsDataset(Dataset):\n",
    "    def __init__(self, originals_dir, filtered_dir, transform=None):\n",
    "        self.originals_dir = originals_dir\n",
    "        self.filtered_dir = filtered_dir\n",
    "        self.transform = transform\n",
    "        self.image_names = os.listdir(originals_dir)\n",
    "\n",
    "    def __len__(self):\n",
    "        return len(self.image_names)\n",
    "\n",
    "    def __getitem__(self, idx):\n",
    "        image_name = self.image_names[idx]\n",
    "        original_path = os.path.join(self.originals_dir, image_name)\n",
    "        filtered_path = os.path.join(self.filtered_dir, image_name)\n",
    "\n",
    "        original_image = Image.open(original_path)\n",
    "        filtered_image = Image.open(filtered_path)\n",
    "\n",
    "        if self.transform:\n",
    "            original_image = self.transform(original_image)\n",
    "            filtered_image = self.transform(filtered_image)\n",
    "        \n",
    "        return original_image, filtered_image"
   ]
  },
  {
   "cell_type": "markdown",
   "metadata": {},
   "source": [
    "Main"
   ]
  },
  {
   "cell_type": "code",
   "execution_count": null,
   "metadata": {},
   "outputs": [],
   "source": [
    "# Set the random seed for reproducibility\n",
    "torch.manual_seed(42)\n",
    "\n",
    "\n",
    "# Determine the device to run on (GPU if available, else CPU)\n",
    "device = torch.device('cuda' if torch.cuda.is_available() else 'cpu')\n",
    "\n",
    "# Transformations to apply to the images\n",
    "transform = transforms.Compose([\n",
    "    transforms.Resize((256, 256)),\n",
    "    transforms.ToTensor(),\n",
    "    transforms.Normalize((0.5, 0.5, 0.5), (0.5, 0.5, 0.5))  # Normalize to [-1, 1]\n",
    "])\n",
    "\n",
    "\n",
    "# Dataset e DataLoader\n",
    "originals_dir = '/kaggle/input/e2gan-images/original_images'\n",
    "filtered_dir = '/kaggle/input/e2gan-images/modified_images'"
   ]
  },
  {
   "cell_type": "code",
   "execution_count": null,
   "metadata": {},
   "outputs": [],
   "source": [
    "# Create the dataset and split it into train, validation, and test sets\n",
    "dataset = ImagePairsDataset(originals_dir, filtered_dir, transform=transform)\n",
    "\n",
    "# Split dataset into train (80%), validation (10%), and test (10%)\n",
    "train_set, val_set, test_set = random_split(dataset, [0.8, 0.1, 0.1])\n",
    "\n",
    "# DataLoader for loading batches of data\n",
    "batch_size = 32\n",
    "train_loader = DataLoader(train_set, \n",
    "                         batch_size=batch_size, \n",
    "                         shuffle=True,\n",
    "                         num_workers=4,  # Caricamento parallelo\n",
    "                         pin_memory=True)  # Utile con GPU\n",
    "val_loader = DataLoader(val_set, batch_size=batch_size)\n",
    "test_loader = DataLoader(test_set, batch_size=batch_size)\n",
    "print(f\"Dataset totale: {len(dataset)} immagini\")\n",
    "print(f\"Training set: {len(train_set)} immagini\")\n",
    "print(f\"Validation set: {len(val_set)} immagini\")\n",
    "print(f\"Test set: {len(test_set)} immagini\")"
   ]
  }
 ],
 "metadata": {
  "kernelspec": {
   "display_name": "fun",
   "language": "python",
   "name": "python3"
  },
  "language_info": {
   "codemirror_mode": {
    "name": "ipython",
    "version": 3
   },
   "file_extension": ".py",
   "mimetype": "text/x-python",
   "name": "python",
   "nbconvert_exporter": "python",
   "pygments_lexer": "ipython3",
   "version": "3.12.7"
  }
 },
 "nbformat": 4,
 "nbformat_minor": 2
}
